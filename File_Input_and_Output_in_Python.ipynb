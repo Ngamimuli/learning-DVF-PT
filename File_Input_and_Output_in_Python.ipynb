{
  "nbformat": 4,
  "nbformat_minor": 0,
  "metadata": {
    "colab": {
      "provenance": [],
      "authorship_tag": "ABX9TyOi9ZJrEB3/lN4NJLinX6fb",
      "include_colab_link": true
    },
    "kernelspec": {
      "name": "python3",
      "display_name": "Python 3"
    },
    "language_info": {
      "name": "python"
    }
  },
  "cells": [
    {
      "cell_type": "markdown",
      "metadata": {
        "id": "view-in-github",
        "colab_type": "text"
      },
      "source": [
        "<a href=\"https://colab.research.google.com/github/Ngamimuli/learning-DVF-PT/blob/main/File_Input_and_Output_in_Python.ipynb\" target=\"_parent\"><img src=\"https://colab.research.google.com/assets/colab-badge.svg\" alt=\"Open In Colab\"/></a>"
      ]
    },
    {
      "cell_type": "code",
      "execution_count": 1,
      "metadata": {
        "id": "ilzghw3E3R-8"
      },
      "outputs": [],
      "source": [
        "x = [5, 6, 7]"
      ]
    },
    {
      "cell_type": "code",
      "source": [
        "#looking at stored address\n",
        "hex(id(x))"
      ],
      "metadata": {
        "colab": {
          "base_uri": "https://localhost:8080/",
          "height": 35
        },
        "id": "adasNlnd3sPX",
        "outputId": "ab2e2427-cfb5-4d9b-ebf5-d5c11d7c2a35"
      },
      "execution_count": 2,
      "outputs": [
        {
          "output_type": "execute_result",
          "data": {
            "text/plain": [
              "'0x79d7214fb080'"
            ],
            "application/vnd.google.colaboratory.intrinsic+json": {
              "type": "string"
            }
          },
          "metadata": {},
          "execution_count": 2
        }
      ]
    },
    {
      "cell_type": "code",
      "source": [
        "# modifying value of tis variable\n",
        "x[0] = 10\n",
        "x"
      ],
      "metadata": {
        "colab": {
          "base_uri": "https://localhost:8080/"
        },
        "id": "qzXdqVqt36LO",
        "outputId": "0c14e54a-2b34-433e-80bb-d58df906fc9c"
      },
      "execution_count": 3,
      "outputs": [
        {
          "output_type": "execute_result",
          "data": {
            "text/plain": [
              "[10, 6, 7]"
            ]
          },
          "metadata": {},
          "execution_count": 3
        }
      ]
    },
    {
      "cell_type": "code",
      "source": [
        "#checking if adderess changed\n",
        "hex(id(x))\n",
        "#address remains the same"
      ],
      "metadata": {
        "colab": {
          "base_uri": "https://localhost:8080/",
          "height": 35
        },
        "id": "vSH9gBZO40Ho",
        "outputId": "d69559ec-ee4e-44a9-e73a-5f5dbc92372d"
      },
      "execution_count": 4,
      "outputs": [
        {
          "output_type": "execute_result",
          "data": {
            "text/plain": [
              "'0x79d7214fb080'"
            ],
            "application/vnd.google.colaboratory.intrinsic+json": {
              "type": "string"
            }
          },
          "metadata": {},
          "execution_count": 4
        }
      ]
    },
    {
      "cell_type": "code",
      "source": [
        "#  view a list of files in the current directory using the bash command ls:\n",
        "! ls"
      ],
      "metadata": {
        "colab": {
          "base_uri": "https://localhost:8080/"
        },
        "id": "DYSCHUJJ5DQR",
        "outputId": "c489dc7d-c2e4-4b24-a054-0d06e79b7b38"
      },
      "execution_count": 5,
      "outputs": [
        {
          "output_type": "stream",
          "name": "stdout",
          "text": [
            "sample_data\n"
          ]
        }
      ]
    },
    {
      "cell_type": "code",
      "source": [
        "README.md                  kernel_menu.png\n",
        "cities.xls                 leia.json\n",
        "colors_and_numbers.parquet leia.xml\n",
        "dog.jpg                    plot.pkl\n",
        "food_prices.csv            zen_of_python.txt\n",
        "index.ipynb                zen_of_python_cleaned.txt\n",
        "[34mindex_files�[m�[m"
      ],
      "metadata": {
        "colab": {
          "base_uri": "https://localhost:8080/",
          "height": 106
        },
        "id": "s8l4Fr5-5sDV",
        "outputId": "50fcada8-5b1c-4a1d-b72f-868e1a2bf6b7"
      },
      "execution_count": 7,
      "outputs": [
        {
          "output_type": "error",
          "ename": "SyntaxError",
          "evalue": "invalid decimal literal (<ipython-input-7-c6c82b07e1fc>, line 7)",
          "traceback": [
            "\u001b[0;36m  File \u001b[0;32m\"<ipython-input-7-c6c82b07e1fc>\"\u001b[0;36m, line \u001b[0;32m7\u001b[0m\n\u001b[0;31m    [34mindex_files�[m�[m\u001b[0m\n\u001b[0m      ^\u001b[0m\n\u001b[0;31mSyntaxError\u001b[0m\u001b[0;31m:\u001b[0m invalid decimal literal\n"
          ]
        }
      ]
    },
    {
      "cell_type": "code",
      "source": [],
      "metadata": {
        "id": "6v65TOJy6Cjp"
      },
      "execution_count": null,
      "outputs": []
    }
  ]
}