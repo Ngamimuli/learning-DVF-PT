{
  "cells": [
    {
      "cell_type": "markdown",
      "metadata": {
        "id": "view-in-github",
        "colab_type": "text"
      },
      "source": [
        "<a href=\"https://colab.research.google.com/github/Ngamimuli/learning-DVF-PT/blob/main/Copy_of_index.ipynb\" target=\"_parent\"><img src=\"https://colab.research.google.com/assets/colab-badge.svg\" alt=\"Open In Colab\"/></a>"
      ]
    },
    {
      "cell_type": "markdown",
      "metadata": {
        "id": "3kqSIs2_aN0i"
      },
      "source": [
        "# User Input and Output in Python\n",
        "\n",
        "## Introduction\n",
        "\n",
        "Sometimes, you'll want Python to ask users for a certain input. This is where user inputs can help!\n",
        "\n",
        "## Objectives\n",
        "\n",
        "You will be able to:\n",
        "\n",
        "* Incorporate input/output functionality in code to allow for user interaction\n",
        "\n",
        "## User input in Python\n",
        "\n",
        "To get user input in Python, you can use the `input()` function. You can store the result in a variable, and use it to your heart's content. Remember that the result you get from the user will be a string, even if they enter a number.\n",
        "\n",
        "For example, run the following cell:"
      ]
    },
    {
      "cell_type": "code",
      "execution_count": null,
      "metadata": {
        "id": "g3H9QUkFaN0k",
        "outputId": "0894995b-2fce-4030-bb50-7834989e5601",
        "colab": {
          "base_uri": "https://localhost:8080/"
        }
      },
      "outputs": [
        {
          "output_type": "stream",
          "name": "stdout",
          "text": [
            "Give me your name: Gloria\n",
            "Your name is Gloria\n"
          ]
        }
      ],
      "source": [
        "name = input(\"Give me your name: \")\n",
        "print(\"Your name is \" + name)"
      ]
    },
    {
      "cell_type": "code",
      "source": [
        "age = input(\"give me your age:\")\n",
        "print(\"your age is\" + age)"
      ],
      "metadata": {
        "id": "Ro5JkCGvdpJT",
        "outputId": "11044ef3-42b1-4362-e7bb-2316aacf38bd",
        "colab": {
          "base_uri": "https://localhost:8080/"
        }
      },
      "execution_count": null,
      "outputs": [
        {
          "output_type": "stream",
          "name": "stdout",
          "text": [
            "give me your age:22\n",
            "your age is22\n"
          ]
        }
      ]
    },
    {
      "cell_type": "markdown",
      "source": [
        "Experienced some difficulty due to not proceeding with running program after inputing my age"
      ],
      "metadata": {
        "id": "HU7GTI13emgK"
      }
    },
    {
      "cell_type": "markdown",
      "metadata": {
        "id": "NuiqUQI3aN0l"
      },
      "source": [
        "When you use the `input()` function, the program waits for the user to type something and press ENTER. Only after the user presses ENTER does the program continue."
      ]
    },
    {
      "cell_type": "markdown",
      "metadata": {
        "id": "Xl52PNB7aN0l"
      },
      "source": [
        "## Manipulating strings (a few ways)\n",
        "\n",
        "What you get from the `input()` function is always a string. What can you do with it?\n",
        "\n",
        "First, make the string into a number. Let’s say you are 100% positive that the user entered a number. You can turn the string into an integer with the function `int()`. (Later we will see what to do when the user does NOT enter a number and you try to do this. For now, don’t worry about that problem)\n",
        "\n",
        "Here is what this looks like:"
      ]
    },
    {
      "cell_type": "code",
      "source": [
        "days = input(\"enter number of days:\")\n",
        "days = int(days)\n",
        "print(\"there are\" , days , \"of the week\")"
      ],
      "metadata": {
        "id": "gxydFp7Cgnc8",
        "outputId": "89b14bd1-2e5b-40bc-82d1-84372c16f7ed",
        "colab": {
          "base_uri": "https://localhost:8080/"
        }
      },
      "execution_count": null,
      "outputs": [
        {
          "output_type": "stream",
          "name": "stdout",
          "text": [
            "enter number of days:7\n",
            "there are 7 of the week\n"
          ]
        }
      ]
    },
    {
      "cell_type": "markdown",
      "source": [
        "the , is used to connect the number in the string"
      ],
      "metadata": {
        "id": "SUBdaMAQiCeX"
      }
    },
    {
      "cell_type": "code",
      "execution_count": null,
      "metadata": {
        "id": "vIrs6ildaN0v",
        "outputId": "fb34635a-85d8-4e0b-ff66-749c64486b3e",
        "colab": {
          "base_uri": "https://localhost:8080/"
        }
      },
      "outputs": [
        {
          "output_type": "stream",
          "name": "stdout",
          "text": [
            "Enter your age: 44\n",
            "You are 44 years old\n"
          ]
        }
      ],
      "source": [
        "age = input(\"Enter your age: \")\n",
        "age = int(age)\n",
        "print (\"You are\", age , \"years old\" )"
      ]
    },
    {
      "cell_type": "markdown",
      "metadata": {
        "id": "UAVf-sHoaN0w"
      },
      "source": [
        "Unlike using `+` for string concatenation as seen earlier, we simply use a `,` for joining strings with numbers. You can also convert an `int` to `str` and use concatenation normally:"
      ]
    },
    {
      "cell_type": "code",
      "source": [
        "print (\"there are \" + str(days) + \" of the week\")"
      ],
      "metadata": {
        "id": "Y4CRVTa8iPt3",
        "outputId": "a24da76c-9041-494b-bc36-3ea5c89c47ac",
        "colab": {
          "base_uri": "https://localhost:8080/"
        }
      },
      "execution_count": null,
      "outputs": [
        {
          "output_type": "stream",
          "name": "stdout",
          "text": [
            "there are 7 of the week\n"
          ]
        }
      ]
    },
    {
      "cell_type": "markdown",
      "source": [
        "finally saw the importance of having a neet raw of code"
      ],
      "metadata": {
        "id": "g9XpwcxnipOA"
      }
    },
    {
      "cell_type": "code",
      "execution_count": null,
      "metadata": {
        "id": "o6q1NjkdaN0w",
        "outputId": "85e6438f-3f83-4742-e751-5427ea227eaa"
      },
      "outputs": [
        {
          "name": "stdout",
          "output_type": "stream",
          "text": [
            "You are 43 years old\n"
          ]
        }
      ],
      "source": [
        " print (\"You are \" + str(age) + \" years old\")"
      ]
    },
    {
      "cell_type": "markdown",
      "metadata": {
        "id": "XPeKWTWaaN0w"
      },
      "source": [
        "## Example\n",
        "Let's create a program that asks the user to enter their name, age, and the current year. Print out a message addressed to them that tells them the year that they will turn 100 years old."
      ]
    },
    {
      "cell_type": "markdown",
      "source": [
        "not well thought of"
      ],
      "metadata": {
        "id": "Ts-zE-avlBxV"
      }
    },
    {
      "cell_type": "code",
      "source": [
        "name = input(\"what is your name:\")\n",
        "days = int(input(\"project has been in progress:\"))\n",
        "current_days = int(input(\"curent progress:\"))\n",
        "final_day = str((current_days - days ) + 40)\n",
        "print(name + \" will be 100 years old in the year \" + final_day)\n"
      ],
      "metadata": {
        "id": "3wXghpVIjd7j",
        "outputId": "8f340028-ce41-414e-b1f5-291d16d488ff",
        "colab": {
          "base_uri": "https://localhost:8080/"
        }
      },
      "execution_count": null,
      "outputs": [
        {
          "output_type": "stream",
          "name": "stdout",
          "text": [
            "what is your name:gloria\n",
            "project has been in progress:67\n",
            "curent progress:46\n",
            "gloria will be 100 years old in the year 19\n"
          ]
        }
      ]
    },
    {
      "cell_type": "code",
      "source": [
        "name + input(\"What is your name: \")\n",
        "age = int(input(\"How old are you: \"))\n",
        "current_year = int(input(\"What is the current year: \"))\n",
        "year = str((current_year - age)+100)\n",
        "print(name + \" will be 100 years old in the year \" + year)"
      ],
      "metadata": {
        "id": "lDC0-mVmjEmO",
        "outputId": "395b0824-ca4c-498d-c293-c8c9a05a8587",
        "colab": {
          "base_uri": "https://localhost:8080/"
        }
      },
      "execution_count": null,
      "outputs": [
        {
          "output_type": "stream",
          "name": "stdout",
          "text": [
            "What is your name: gloria\n",
            "How old are you: 22\n",
            "What is the current year: 2024\n",
            "Gloria will be 100 years old in the year 2102\n"
          ]
        }
      ]
    },
    {
      "cell_type": "code",
      "execution_count": null,
      "metadata": {
        "id": "uQgg26PnaN0w",
        "outputId": "3fcd4e92-f881-46f0-d471-18b67e7c7837"
      },
      "outputs": [
        {
          "name": "stdout",
          "output_type": "stream",
          "text": [
            "What is your name: Billy\n",
            "How old are you: 43\n",
            "what is the current year: 2019\n",
            "Billy will be 100 years old in the year 2076\n"
          ]
        }
      ],
      "source": [
        "name = input(\"What is your name: \")\n",
        "age = int(input(\"How old are you: \"))\n",
        "current_year = int(input(\"What is the current year: \"))\n",
        "year = str((current_year - age)+100)\n",
        "print(name + \" will be 100 years old in the year \" + year)"
      ]
    },
    {
      "cell_type": "markdown",
      "metadata": {
        "id": "yLRDEyFdaN0w"
      },
      "source": [
        "## Summary\n",
        "\n",
        "This lesson introduced you to character input/output and string manipulation. We also saw how we can take user input, do some basic processing and provide feedback to the user based on the input."
      ]
    }
  ],
  "metadata": {
    "kernelspec": {
      "display_name": "Python (learn-env)",
      "language": "python",
      "name": "learn-env"
    },
    "language_info": {
      "codemirror_mode": {
        "name": "ipython",
        "version": 3
      },
      "file_extension": ".py",
      "mimetype": "text/x-python",
      "name": "python",
      "nbconvert_exporter": "python",
      "pygments_lexer": "ipython3",
      "version": "3.8.5"
    },
    "toc": {
      "base_numbering": 1,
      "nav_menu": {},
      "number_sections": true,
      "sideBar": true,
      "skip_h1_title": false,
      "title_cell": "Table of Contents",
      "title_sidebar": "Contents",
      "toc_cell": false,
      "toc_position": {},
      "toc_section_display": true,
      "toc_window_display": false
    },
    "colab": {
      "provenance": [],
      "include_colab_link": true
    }
  },
  "nbformat": 4,
  "nbformat_minor": 0
}